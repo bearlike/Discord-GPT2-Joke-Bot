{
 "cells": [
  {
   "cell_type": "markdown",
   "id": "68f7a4b3-f84e-4e56-aeb4-acc4c4599a6e",
   "metadata": {},
   "source": [
    "# Reddit Scraper"
   ]
  },
  {
   "cell_type": "code",
   "execution_count": 7,
   "id": "7e85f2a0-315a-4c0d-81a7-a5a10f0106ff",
   "metadata": {},
   "outputs": [],
   "source": [
    "!pip install --quiet praw"
   ]
  },
  {
   "cell_type": "code",
   "execution_count": 128,
   "id": "fd354096-c717-48fa-b628-6c63e3c81278",
   "metadata": {},
   "outputs": [],
   "source": [
    "import time\n",
    "import datetime\n",
    "import praw\n",
    "import os\n",
    "import traceback\n",
    "import requests\n",
    "import json\n",
    "from tqdm.auto import tqdm\n",
    "from pprint import pprint\n",
    "import pandas as pd"
   ]
  },
  {
   "cell_type": "code",
   "execution_count": 9,
   "id": "db95318a-c49e-4041-bca1-ee10d8ae7be1",
   "metadata": {},
   "outputs": [],
   "source": [
    "b = \"timestamp:\"\n",
    "d = \"..\""
   ]
  },
  {
   "cell_type": "markdown",
   "id": "825ff110-173b-43fe-93da-94479a19ed40",
   "metadata": {},
   "source": [
    "Enter your config details here. For more info, visit https://github.com/reddit/reddit/wiki/OAuth2"
   ]
  },
  {
   "cell_type": "code",
   "execution_count": 10,
   "id": "72ee6212-2c85-45d7-9f05-4fdd92d69642",
   "metadata": {},
   "outputs": [],
   "source": [
    "from dotenv import load_dotenv\n",
    "load_dotenv()\n",
    "SECRET = os.getenv('REDDIT_APP_SECRET')\n",
    "CLIENT_ID = os.getenv('REDDIT_APP_CLIENTID')\n",
    "PASSOWRD = os.getenv('REDDIT_APP_PASSWORD')\n",
    "AGENT = os.getenv('REDDIT_APP_AGENT')\n",
    "USERNAME = os.getenv('REDDIT_APP_USERNAME')\n"
   ]
  },
  {
   "cell_type": "code",
   "execution_count": 11,
   "id": "3830cc15-7bcf-4728-9798-7494937314ab",
   "metadata": {},
   "outputs": [],
   "source": [
    "r = praw.Reddit(client_id = CLIENT_ID,\n",
    "                client_secret = SECRET,\n",
    "                password = PASSOWRD,\n",
    "                user_agent = AGENT,\n",
    "                username = USERNAME)"
   ]
  },
  {
   "cell_type": "markdown",
   "id": "09e9fd38-8e8f-4271-9e9a-1f1923f6af49",
   "metadata": {},
   "source": [
    "## Checking if everything works alright"
   ]
  },
  {
   "cell_type": "code",
   "execution_count": 95,
   "id": "2e715eed-58f3-4760-b4f5-154a09590ffe",
   "metadata": {},
   "outputs": [
    {
     "name": "stdout",
     "output_type": "stream",
     "text": [
      "ze013y\n",
      "zdtwci\n",
      "zdtaep\n"
     ]
    }
   ],
   "source": [
    "reddit = r\n",
    "no_subreddit = reddit.subreddit('all')\n",
    "hot = no_subreddit.hot(limit=3)\n",
    "for i in hot:\n",
    "    print(i)"
   ]
  },
  {
   "cell_type": "markdown",
   "id": "bf687e16-f9e7-415c-ae91-0199321bd831",
   "metadata": {},
   "source": [
    "## Pun scraping from `r/puns`"
   ]
  },
  {
   "cell_type": "code",
   "execution_count": 174,
   "id": "5d57111f-3d29-459f-8488-4b21525b4496",
   "metadata": {},
   "outputs": [],
   "source": [
    "SUBREDDIT = \"puns\"\n",
    "LIMIT = 10000"
   ]
  },
  {
   "cell_type": "code",
   "execution_count": 175,
   "id": "81a9f11a-8c61-47b9-9566-f44490b3a880",
   "metadata": {},
   "outputs": [],
   "source": [
    "subreddit2 = r.subreddit(SUBREDDIT)\n",
    "#_subreddit = subreddit2.top(time_filter=\"all\", limit=LIMIT)\n",
    "r_subreddit = subreddit2.hot(limit=LIMIT)"
   ]
  },
  {
   "cell_type": "code",
   "execution_count": 176,
   "id": "0734d1d4-5769-4129-ba09-2c4b2247331c",
   "metadata": {},
   "outputs": [],
   "source": [
    "post_type = set()\n",
    "dict = { \n",
    "        \"title\":[],\n",
    "        \"body\":[],\n",
    "        \"subreddit\":[],\n",
    "        \"score\":[], \n",
    "        \"id\":[], \n",
    "        \"url\":[], \n",
    "        \"comms_num\": [], \n",
    "        \"created\": [],\n",
    "}"
   ]
  },
  {
   "cell_type": "markdown",
   "id": "4a06be0d-e888-4b6c-b834-25d564ef5e82",
   "metadata": {},
   "source": [
    "### Find post type\n",
    "We only want text post"
   ]
  },
  {
   "cell_type": "code",
   "execution_count": 177,
   "id": "4b93fe2c-21f7-4deb-b245-eb8ec95449e4",
   "metadata": {},
   "outputs": [],
   "source": [
    "def get_post_type(subm):\n",
    "    if getattr(subm, 'post_hint', '') == 'image':\n",
    "        return 'image'\n",
    "    elif getattr(subm, 'is_gallery', False):\n",
    "        return 'gallery'\n",
    "    elif subm.is_video:\n",
    "        return 'video'\n",
    "    elif hasattr(subm, 'poll_data'):\n",
    "        return 'poll'\n",
    "    elif hasattr(subm, 'crosspost_parent'):\n",
    "        return \"crosspost\"\n",
    "    elif subm.is_self:\n",
    "        return 'text'\n",
    "    return 'link'"
   ]
  },
  {
   "cell_type": "markdown",
   "id": "9ecc9c2d-ac83-4d21-93d2-ecbe2412781d",
   "metadata": {},
   "source": [
    "### Driver code"
   ]
  },
  {
   "cell_type": "code",
   "execution_count": 178,
   "id": "8aea268a-c983-4e3d-9ab6-17f549e9e524",
   "metadata": {},
   "outputs": [
    {
     "data": {
      "application/vnd.jupyter.widget-view+json": {
       "model_id": "a29af4fa5b7142329fad4b4a67da12a2",
       "version_major": 2,
       "version_minor": 0
      },
      "text/plain": [
       "  0%|          | 0/10000 [00:00<?, ?it/s]"
      ]
     },
     "metadata": {},
     "output_type": "display_data"
    }
   ],
   "source": [
    "for submission in tqdm(r_subreddit, total=LIMIT):\n",
    "    cur_post_type = get_post_type(submission)\n",
    "    post_type.add(cur_post_type)\n",
    "    if cur_post_type == 'text':\n",
    "        dict[\"title\"].append(str(submission.title))\n",
    "        dict[\"body\"].append(str(submission.selftext))\n",
    "        dict['subreddit'].append(str(submission.subreddit))\n",
    "        dict[\"score\"].append(str(submission.score))\n",
    "        dict[\"id\"].append(str(submission.id))\n",
    "        dict[\"url\"].append(str(submission.url))\n",
    "        dict[\"created\"].append(str(submission.created))"
   ]
  },
  {
   "cell_type": "code",
   "execution_count": 170,
   "id": "7bd7c789-c32e-4969-ad7c-124016c74dd0",
   "metadata": {},
   "outputs": [
    {
     "name": "stdout",
     "output_type": "stream",
     "text": [
      "Total text post scraped is 364\n"
     ]
    },
    {
     "data": {
      "text/html": [
       "<div>\n",
       "<style scoped>\n",
       "    .dataframe tbody tr th:only-of-type {\n",
       "        vertical-align: middle;\n",
       "    }\n",
       "\n",
       "    .dataframe tbody tr th {\n",
       "        vertical-align: top;\n",
       "    }\n",
       "\n",
       "    .dataframe thead th {\n",
       "        text-align: right;\n",
       "    }\n",
       "</style>\n",
       "<table border=\"1\" class=\"dataframe\">\n",
       "  <thead>\n",
       "    <tr style=\"text-align: right;\">\n",
       "      <th></th>\n",
       "      <th>index</th>\n",
       "      <th>title</th>\n",
       "      <th>body</th>\n",
       "      <th>subreddit</th>\n",
       "      <th>score</th>\n",
       "      <th>id</th>\n",
       "      <th>url</th>\n",
       "      <th>comms_num</th>\n",
       "      <th>created</th>\n",
       "    </tr>\n",
       "  </thead>\n",
       "  <tbody>\n",
       "    <tr>\n",
       "      <th>0</th>\n",
       "      <td>0</td>\n",
       "      <td>What did the apple(the company) said after not...</td>\n",
       "      <td>We will be MacInTouch</td>\n",
       "      <td>puns</td>\n",
       "      <td>2</td>\n",
       "      <td>ze39ad</td>\n",
       "      <td>https://www.reddit.com/r/puns/comments/ze39ad/...</td>\n",
       "      <td>1</td>\n",
       "      <td>1.670324e+09</td>\n",
       "    </tr>\n",
       "    <tr>\n",
       "      <th>1</th>\n",
       "      <td>1</td>\n",
       "      <td>A not so France-y experience part 2</td>\n",
       "      <td>Not happy with the experience, the disappointe...</td>\n",
       "      <td>puns</td>\n",
       "      <td>0</td>\n",
       "      <td>ze2gp9</td>\n",
       "      <td>https://www.reddit.com/r/puns/comments/ze2gp9/...</td>\n",
       "      <td>0</td>\n",
       "      <td>1.670321e+09</td>\n",
       "    </tr>\n",
       "    <tr>\n",
       "      <th>2</th>\n",
       "      <td>2</td>\n",
       "      <td>A not so France-y experience</td>\n",
       "      <td>A tourist got robbed by some not-so-nice local...</td>\n",
       "      <td>puns</td>\n",
       "      <td>0</td>\n",
       "      <td>ze262j</td>\n",
       "      <td>https://www.reddit.com/r/puns/comments/ze262j/...</td>\n",
       "      <td>0</td>\n",
       "      <td>1.670320e+09</td>\n",
       "    </tr>\n",
       "    <tr>\n",
       "      <th>3</th>\n",
       "      <td>3</td>\n",
       "      <td>I mean......</td>\n",
       "      <td>If the air has gone somewhere.......\\n\\n\\n\\n.....</td>\n",
       "      <td>puns</td>\n",
       "      <td>0</td>\n",
       "      <td>ze1wxn</td>\n",
       "      <td>https://www.reddit.com/r/puns/comments/ze1wxn/...</td>\n",
       "      <td>0</td>\n",
       "      <td>1.670320e+09</td>\n",
       "    </tr>\n",
       "    <tr>\n",
       "      <th>4</th>\n",
       "      <td>4</td>\n",
       "      <td>I finally got revenge on the guy who wrote all...</td>\n",
       "      <td>I ran at him, I pushed him down to the curb, a...</td>\n",
       "      <td>puns</td>\n",
       "      <td>2</td>\n",
       "      <td>zdvbpc</td>\n",
       "      <td>https://www.reddit.com/r/puns/comments/zdvbpc/...</td>\n",
       "      <td>1</td>\n",
       "      <td>1.670301e+09</td>\n",
       "    </tr>\n",
       "    <tr>\n",
       "      <th>...</th>\n",
       "      <td>...</td>\n",
       "      <td>...</td>\n",
       "      <td>...</td>\n",
       "      <td>...</td>\n",
       "      <td>...</td>\n",
       "      <td>...</td>\n",
       "      <td>...</td>\n",
       "      <td>...</td>\n",
       "      <td>...</td>\n",
       "    </tr>\n",
       "    <tr>\n",
       "      <th>359</th>\n",
       "      <td>359</td>\n",
       "      <td>Sponge Bob</td>\n",
       "      <td>A friend of mine is selling undersea real esta...</td>\n",
       "      <td>puns</td>\n",
       "      <td>0</td>\n",
       "      <td>xi4icf</td>\n",
       "      <td>https://www.reddit.com/r/puns/comments/xi4icf/...</td>\n",
       "      <td>1</td>\n",
       "      <td>1.663571e+09</td>\n",
       "    </tr>\n",
       "    <tr>\n",
       "      <th>360</th>\n",
       "      <td>360</td>\n",
       "      <td>Why don't Russians watch Netflix?</td>\n",
       "      <td>They have Njetflix</td>\n",
       "      <td>puns</td>\n",
       "      <td>9</td>\n",
       "      <td>xhih7r</td>\n",
       "      <td>https://www.reddit.com/r/puns/comments/xhih7r/...</td>\n",
       "      <td>4</td>\n",
       "      <td>1.663512e+09</td>\n",
       "    </tr>\n",
       "    <tr>\n",
       "      <th>361</th>\n",
       "      <td>361</td>\n",
       "      <td>My cat got arrested for vandalizing property.</td>\n",
       "      <td>Turns out they had probable claws …</td>\n",
       "      <td>puns</td>\n",
       "      <td>3</td>\n",
       "      <td>xhis9k</td>\n",
       "      <td>https://www.reddit.com/r/puns/comments/xhis9k/...</td>\n",
       "      <td>0</td>\n",
       "      <td>1.663513e+09</td>\n",
       "    </tr>\n",
       "    <tr>\n",
       "      <th>362</th>\n",
       "      <td>362</td>\n",
       "      <td>If you graduate cum laude</td>\n",
       "      <td>you'll probably make sapiosexuals cum laude.</td>\n",
       "      <td>puns</td>\n",
       "      <td>1</td>\n",
       "      <td>xhqfgo</td>\n",
       "      <td>https://www.reddit.com/r/puns/comments/xhqfgo/...</td>\n",
       "      <td>0</td>\n",
       "      <td>1.663531e+09</td>\n",
       "    </tr>\n",
       "    <tr>\n",
       "      <th>363</th>\n",
       "      <td>363</td>\n",
       "      <td>If i drink alcohol, then i am an alcoholic</td>\n",
       "      <td>if i drink Fanta, then i am Fantastic</td>\n",
       "      <td>puns</td>\n",
       "      <td>2</td>\n",
       "      <td>xhg2ps</td>\n",
       "      <td>https://www.reddit.com/r/puns/comments/xhg2ps/...</td>\n",
       "      <td>3</td>\n",
       "      <td>1.663506e+09</td>\n",
       "    </tr>\n",
       "  </tbody>\n",
       "</table>\n",
       "<p>364 rows × 9 columns</p>\n",
       "</div>"
      ],
      "text/plain": [
       "     index                                              title  \\\n",
       "0        0  What did the apple(the company) said after not...   \n",
       "1        1                A not so France-y experience part 2   \n",
       "2        2                       A not so France-y experience   \n",
       "3        3                                       I mean......   \n",
       "4        4  I finally got revenge on the guy who wrote all...   \n",
       "..     ...                                                ...   \n",
       "359    359                                         Sponge Bob   \n",
       "360    360                  Why don't Russians watch Netflix?   \n",
       "361    361      My cat got arrested for vandalizing property.   \n",
       "362    362                          If you graduate cum laude   \n",
       "363    363         If i drink alcohol, then i am an alcoholic   \n",
       "\n",
       "                                                  body subreddit  score  \\\n",
       "0                                We will be MacInTouch      puns      2   \n",
       "1    Not happy with the experience, the disappointe...      puns      0   \n",
       "2    A tourist got robbed by some not-so-nice local...      puns      0   \n",
       "3    If the air has gone somewhere.......\\n\\n\\n\\n.....      puns      0   \n",
       "4    I ran at him, I pushed him down to the curb, a...      puns      2   \n",
       "..                                                 ...       ...    ...   \n",
       "359  A friend of mine is selling undersea real esta...      puns      0   \n",
       "360                                 They have Njetflix      puns      9   \n",
       "361                Turns out they had probable claws …      puns      3   \n",
       "362       you'll probably make sapiosexuals cum laude.      puns      1   \n",
       "363              if i drink Fanta, then i am Fantastic      puns      2   \n",
       "\n",
       "         id                                                url  comms_num  \\\n",
       "0    ze39ad  https://www.reddit.com/r/puns/comments/ze39ad/...          1   \n",
       "1    ze2gp9  https://www.reddit.com/r/puns/comments/ze2gp9/...          0   \n",
       "2    ze262j  https://www.reddit.com/r/puns/comments/ze262j/...          0   \n",
       "3    ze1wxn  https://www.reddit.com/r/puns/comments/ze1wxn/...          0   \n",
       "4    zdvbpc  https://www.reddit.com/r/puns/comments/zdvbpc/...          1   \n",
       "..      ...                                                ...        ...   \n",
       "359  xi4icf  https://www.reddit.com/r/puns/comments/xi4icf/...          1   \n",
       "360  xhih7r  https://www.reddit.com/r/puns/comments/xhih7r/...          4   \n",
       "361  xhis9k  https://www.reddit.com/r/puns/comments/xhis9k/...          0   \n",
       "362  xhqfgo  https://www.reddit.com/r/puns/comments/xhqfgo/...          0   \n",
       "363  xhg2ps  https://www.reddit.com/r/puns/comments/xhg2ps/...          3   \n",
       "\n",
       "          created  \n",
       "0    1.670324e+09  \n",
       "1    1.670321e+09  \n",
       "2    1.670320e+09  \n",
       "3    1.670320e+09  \n",
       "4    1.670301e+09  \n",
       "..            ...  \n",
       "359  1.663571e+09  \n",
       "360  1.663512e+09  \n",
       "361  1.663513e+09  \n",
       "362  1.663531e+09  \n",
       "363  1.663506e+09  \n",
       "\n",
       "[364 rows x 9 columns]"
      ]
     },
     "execution_count": 170,
     "metadata": {},
     "output_type": "execute_result"
    }
   ],
   "source": [
    "print(f\"Total text post scraped is { len(dict['title']) }\")\n",
    "df = pd.DataFrame.from_dict(dict).reset_index()\n",
    "df"
   ]
  },
  {
   "cell_type": "code",
   "execution_count": 172,
   "id": "06b07cb5-31f5-42c4-b6b0-f644d191f950",
   "metadata": {},
   "outputs": [
    {
     "ename": "TypeError",
     "evalue": "Object of type Subreddit is not JSON serializable",
     "output_type": "error",
     "traceback": [
      "\u001b[0;31m---------------------------------------------------------------------------\u001b[0m",
      "\u001b[0;31mTypeError\u001b[0m                                 Traceback (most recent call last)",
      "Cell \u001b[0;32mIn [172], line 2\u001b[0m\n\u001b[1;32m      1\u001b[0m \u001b[38;5;28;01mwith\u001b[39;00m \u001b[38;5;28mopen\u001b[39m(\u001b[38;5;124m\"\u001b[39m\u001b[38;5;124mscraped_joke.json\u001b[39m\u001b[38;5;124m\"\u001b[39m, \u001b[38;5;124m\"\u001b[39m\u001b[38;5;124mw\u001b[39m\u001b[38;5;124m\"\u001b[39m) \u001b[38;5;28;01mas\u001b[39;00m outfile:\n\u001b[0;32m----> 2\u001b[0m     json\u001b[38;5;241m.\u001b[39mdump(\u001b[38;5;28mdict\u001b[39m, outfile)\n",
      "File \u001b[0;32m/usr/lib/python3.8/json/__init__.py:179\u001b[0m, in \u001b[0;36mdump\u001b[0;34m(obj, fp, skipkeys, ensure_ascii, check_circular, allow_nan, cls, indent, separators, default, sort_keys, **kw)\u001b[0m\n\u001b[1;32m    173\u001b[0m     iterable \u001b[38;5;241m=\u001b[39m \u001b[38;5;28mcls\u001b[39m(skipkeys\u001b[38;5;241m=\u001b[39mskipkeys, ensure_ascii\u001b[38;5;241m=\u001b[39mensure_ascii,\n\u001b[1;32m    174\u001b[0m         check_circular\u001b[38;5;241m=\u001b[39mcheck_circular, allow_nan\u001b[38;5;241m=\u001b[39mallow_nan, indent\u001b[38;5;241m=\u001b[39mindent,\n\u001b[1;32m    175\u001b[0m         separators\u001b[38;5;241m=\u001b[39mseparators,\n\u001b[1;32m    176\u001b[0m         default\u001b[38;5;241m=\u001b[39mdefault, sort_keys\u001b[38;5;241m=\u001b[39msort_keys, \u001b[38;5;241m*\u001b[39m\u001b[38;5;241m*\u001b[39mkw)\u001b[38;5;241m.\u001b[39miterencode(obj)\n\u001b[1;32m    177\u001b[0m \u001b[38;5;66;03m# could accelerate with writelines in some versions of Python, at\u001b[39;00m\n\u001b[1;32m    178\u001b[0m \u001b[38;5;66;03m# a debuggability cost\u001b[39;00m\n\u001b[0;32m--> 179\u001b[0m \u001b[38;5;28;01mfor\u001b[39;00m chunk \u001b[38;5;129;01min\u001b[39;00m iterable:\n\u001b[1;32m    180\u001b[0m     fp\u001b[38;5;241m.\u001b[39mwrite(chunk)\n",
      "File \u001b[0;32m/usr/lib/python3.8/json/encoder.py:431\u001b[0m, in \u001b[0;36m_make_iterencode.<locals>._iterencode\u001b[0;34m(o, _current_indent_level)\u001b[0m\n\u001b[1;32m    429\u001b[0m     \u001b[38;5;28;01myield from\u001b[39;00m _iterencode_list(o, _current_indent_level)\n\u001b[1;32m    430\u001b[0m \u001b[38;5;28;01melif\u001b[39;00m \u001b[38;5;28misinstance\u001b[39m(o, \u001b[38;5;28mdict\u001b[39m):\n\u001b[0;32m--> 431\u001b[0m     \u001b[38;5;28;01myield from\u001b[39;00m _iterencode_dict(o, _current_indent_level)\n\u001b[1;32m    432\u001b[0m \u001b[38;5;28;01melse\u001b[39;00m:\n\u001b[1;32m    433\u001b[0m     \u001b[38;5;28;01mif\u001b[39;00m markers \u001b[38;5;129;01mis\u001b[39;00m \u001b[38;5;129;01mnot\u001b[39;00m \u001b[38;5;28;01mNone\u001b[39;00m:\n",
      "File \u001b[0;32m/usr/lib/python3.8/json/encoder.py:405\u001b[0m, in \u001b[0;36m_make_iterencode.<locals>._iterencode_dict\u001b[0;34m(dct, _current_indent_level)\u001b[0m\n\u001b[1;32m    403\u001b[0m         \u001b[38;5;28;01melse\u001b[39;00m:\n\u001b[1;32m    404\u001b[0m             chunks \u001b[38;5;241m=\u001b[39m _iterencode(value, _current_indent_level)\n\u001b[0;32m--> 405\u001b[0m         \u001b[38;5;28;01myield from\u001b[39;00m chunks\n\u001b[1;32m    406\u001b[0m \u001b[38;5;28;01mif\u001b[39;00m newline_indent \u001b[38;5;129;01mis\u001b[39;00m \u001b[38;5;129;01mnot\u001b[39;00m \u001b[38;5;28;01mNone\u001b[39;00m:\n\u001b[1;32m    407\u001b[0m     _current_indent_level \u001b[38;5;241m-\u001b[39m\u001b[38;5;241m=\u001b[39m \u001b[38;5;241m1\u001b[39m\n",
      "File \u001b[0;32m/usr/lib/python3.8/json/encoder.py:325\u001b[0m, in \u001b[0;36m_make_iterencode.<locals>._iterencode_list\u001b[0;34m(lst, _current_indent_level)\u001b[0m\n\u001b[1;32m    323\u001b[0m         \u001b[38;5;28;01melse\u001b[39;00m:\n\u001b[1;32m    324\u001b[0m             chunks \u001b[38;5;241m=\u001b[39m _iterencode(value, _current_indent_level)\n\u001b[0;32m--> 325\u001b[0m         \u001b[38;5;28;01myield from\u001b[39;00m chunks\n\u001b[1;32m    326\u001b[0m \u001b[38;5;28;01mif\u001b[39;00m newline_indent \u001b[38;5;129;01mis\u001b[39;00m \u001b[38;5;129;01mnot\u001b[39;00m \u001b[38;5;28;01mNone\u001b[39;00m:\n\u001b[1;32m    327\u001b[0m     _current_indent_level \u001b[38;5;241m-\u001b[39m\u001b[38;5;241m=\u001b[39m \u001b[38;5;241m1\u001b[39m\n",
      "File \u001b[0;32m/usr/lib/python3.8/json/encoder.py:438\u001b[0m, in \u001b[0;36m_make_iterencode.<locals>._iterencode\u001b[0;34m(o, _current_indent_level)\u001b[0m\n\u001b[1;32m    436\u001b[0m         \u001b[38;5;28;01mraise\u001b[39;00m \u001b[38;5;167;01mValueError\u001b[39;00m(\u001b[38;5;124m\"\u001b[39m\u001b[38;5;124mCircular reference detected\u001b[39m\u001b[38;5;124m\"\u001b[39m)\n\u001b[1;32m    437\u001b[0m     markers[markerid] \u001b[38;5;241m=\u001b[39m o\n\u001b[0;32m--> 438\u001b[0m o \u001b[38;5;241m=\u001b[39m \u001b[43m_default\u001b[49m\u001b[43m(\u001b[49m\u001b[43mo\u001b[49m\u001b[43m)\u001b[49m\n\u001b[1;32m    439\u001b[0m \u001b[38;5;28;01myield from\u001b[39;00m _iterencode(o, _current_indent_level)\n\u001b[1;32m    440\u001b[0m \u001b[38;5;28;01mif\u001b[39;00m markers \u001b[38;5;129;01mis\u001b[39;00m \u001b[38;5;129;01mnot\u001b[39;00m \u001b[38;5;28;01mNone\u001b[39;00m:\n",
      "File \u001b[0;32m/usr/lib/python3.8/json/encoder.py:179\u001b[0m, in \u001b[0;36mJSONEncoder.default\u001b[0;34m(self, o)\u001b[0m\n\u001b[1;32m    160\u001b[0m \u001b[38;5;28;01mdef\u001b[39;00m \u001b[38;5;21mdefault\u001b[39m(\u001b[38;5;28mself\u001b[39m, o):\n\u001b[1;32m    161\u001b[0m     \u001b[38;5;124;03m\"\"\"Implement this method in a subclass such that it returns\u001b[39;00m\n\u001b[1;32m    162\u001b[0m \u001b[38;5;124;03m    a serializable object for ``o``, or calls the base implementation\u001b[39;00m\n\u001b[1;32m    163\u001b[0m \u001b[38;5;124;03m    (to raise a ``TypeError``).\u001b[39;00m\n\u001b[0;32m   (...)\u001b[0m\n\u001b[1;32m    177\u001b[0m \n\u001b[1;32m    178\u001b[0m \u001b[38;5;124;03m    \"\"\"\u001b[39;00m\n\u001b[0;32m--> 179\u001b[0m     \u001b[38;5;28;01mraise\u001b[39;00m \u001b[38;5;167;01mTypeError\u001b[39;00m(\u001b[38;5;124mf\u001b[39m\u001b[38;5;124m'\u001b[39m\u001b[38;5;124mObject of type \u001b[39m\u001b[38;5;132;01m{\u001b[39;00mo\u001b[38;5;241m.\u001b[39m\u001b[38;5;18m__class__\u001b[39m\u001b[38;5;241m.\u001b[39m\u001b[38;5;18m__name__\u001b[39m\u001b[38;5;132;01m}\u001b[39;00m\u001b[38;5;124m \u001b[39m\u001b[38;5;124m'\u001b[39m\n\u001b[1;32m    180\u001b[0m                     \u001b[38;5;124mf\u001b[39m\u001b[38;5;124m'\u001b[39m\u001b[38;5;124mis not JSON serializable\u001b[39m\u001b[38;5;124m'\u001b[39m)\n",
      "\u001b[0;31mTypeError\u001b[0m: Object of type Subreddit is not JSON serializable"
     ]
    }
   ],
   "source": [
    "with open(\"scraped_joke.json\", \"w\") as outfile:\n",
    "    json.dump(dict, outfile)"
   ]
  },
  {
   "cell_type": "code",
   "execution_count": null,
   "id": "b86139cf-af47-4d50-bf52-cd84f9b05886",
   "metadata": {},
   "outputs": [],
   "source": []
  }
 ],
 "metadata": {
  "kernelspec": {
   "display_name": "Python 3 (ipykernel)",
   "language": "python",
   "name": "python3"
  },
  "language_info": {
   "codemirror_mode": {
    "name": "ipython",
    "version": 3
   },
   "file_extension": ".py",
   "mimetype": "text/x-python",
   "name": "python",
   "nbconvert_exporter": "python",
   "pygments_lexer": "ipython3",
   "version": "3.8.10"
  }
 },
 "nbformat": 4,
 "nbformat_minor": 5
}
